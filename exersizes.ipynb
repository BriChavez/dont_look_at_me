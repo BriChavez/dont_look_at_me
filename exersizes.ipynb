{
 "cells": [
  {
   "cell_type": "code",
   "execution_count": 2,
   "metadata": {},
   "outputs": [
    {
     "name": "stdout",
     "output_type": "stream",
     "text": [
      "3+4\n"
     ]
    }
   ],
   "source": [
    "print(\"3+4\")"
   ]
  },
  {
   "cell_type": "code",
   "execution_count": null,
   "metadata": {},
   "outputs": [
    {
     "ename": "",
     "evalue": "",
     "output_type": "error",
     "traceback": [
      "\u001b[1;31mFailed to start the Kernel. \n",
      "Canceled. \n",
      "View Jupyter <a href='command:jupyter.viewOutput'>log</a> for further details."
     ]
    }
   ],
   "source": [
    "cubs = \"CUBS\"\n",
    "class Cheer:\n",
    "    def __init__(self, team):\n",
    "        self.team = team\n",
    "        \n",
    "        \n",
    "        \n",
    "        team_ = list(team)\n",
    "        for letters in team_:\n",
    "            team_.concat(\"!\")\n",
    "        \n",
    "    "
   ]
  },
  {
   "cell_type": "code",
   "execution_count": null,
   "metadata": {},
   "outputs": [],
   "source": [
    "Imagine the numbers in a list as a bar graph. For example:\n",
    "a = [0, 0, 1, 3, 2, 0, 0, 2, 0]\n",
    "Write a function that prints the humps. For example:\n",
    "(1, 3, 2) and (2)\n",
    "\n",
    "Expected arguments: a list\n"
   ]
  },
  {
   "cell_type": "code",
   "execution_count": 1,
   "metadata": {},
   "outputs": [
    {
     "ename": "TypeError",
     "evalue": "list.append() takes exactly one argument (0 given)",
     "output_type": "error",
     "traceback": [
      "\u001b[0;31m---------------------------------------------------------------------------\u001b[0m",
      "\u001b[0;31mTypeError\u001b[0m                                 Traceback (most recent call last)",
      "\u001b[1;32m/home/fossa/Desktop/exersizes/exersizes.ipynb Cell 4'\u001b[0m in \u001b[0;36m<cell line: 10>\u001b[0;34m()\u001b[0m\n\u001b[1;32m      <a href='vscode-notebook-cell:/home/fossa/Desktop/exersizes/exersizes.ipynb#ch0000003?line=4'>5</a>\u001b[0m             new_graph\u001b[39m=\u001b[39m graph\u001b[39m.\u001b[39mappend()\n\u001b[1;32m      <a href='vscode-notebook-cell:/home/fossa/Desktop/exersizes/exersizes.ipynb#ch0000003?line=8'>9</a>\u001b[0m a \u001b[39m=\u001b[39m [\u001b[39m0\u001b[39m, \u001b[39m0\u001b[39m, \u001b[39m1\u001b[39m, \u001b[39m3\u001b[39m, \u001b[39m2\u001b[39m, \u001b[39m0\u001b[39m, \u001b[39m0\u001b[39m, \u001b[39m2\u001b[39m, \u001b[39m0\u001b[39m]\n\u001b[0;32m---> <a href='vscode-notebook-cell:/home/fossa/Desktop/exersizes/exersizes.ipynb#ch0000003?line=9'>10</a>\u001b[0m humps(a)\n",
      "\u001b[1;32m/home/fossa/Desktop/exersizes/exersizes.ipynb Cell 4'\u001b[0m in \u001b[0;36mhumps\u001b[0;34m(graph)\u001b[0m\n\u001b[1;32m      <a href='vscode-notebook-cell:/home/fossa/Desktop/exersizes/exersizes.ipynb#ch0000003?line=1'>2</a>\u001b[0m \u001b[39mfor\u001b[39;00m i \u001b[39min\u001b[39;00m graph:\n\u001b[1;32m      <a href='vscode-notebook-cell:/home/fossa/Desktop/exersizes/exersizes.ipynb#ch0000003?line=2'>3</a>\u001b[0m     \u001b[39mif\u001b[39;00m i \u001b[39m==\u001b[39m \u001b[39m0\u001b[39m:\n\u001b[0;32m----> <a href='vscode-notebook-cell:/home/fossa/Desktop/exersizes/exersizes.ipynb#ch0000003?line=4'>5</a>\u001b[0m         new_graph\u001b[39m=\u001b[39m graph\u001b[39m.\u001b[39;49mappend()\n",
      "\u001b[0;31mTypeError\u001b[0m: list.append() takes exactly one argument (0 given)"
     ]
    }
   ],
   "source": [
    "def humps(graph):\n",
    "    for i in graph:\n",
    "        if i == 0:\n",
    "\n",
    "            new_graph= graph.append()\n",
    "\n",
    "\n",
    "\n",
    "a = [0, 0, 1, 3, 2, 0, 0, 2, 0]\n",
    "humps(a)            "
   ]
  },
  {
   "cell_type": "code",
   "execution_count": 2,
   "metadata": {},
   "outputs": [
    {
     "ename": "SyntaxError",
     "evalue": "invalid syntax (3714803910.py, line 1)",
     "output_type": "error",
     "traceback": [
      "\u001b[0;36m  Input \u001b[0;32mIn [2]\u001b[0;36m\u001b[0m\n\u001b[0;31m    def function(list)\u001b[0m\n\u001b[0m                      ^\u001b[0m\n\u001b[0;31mSyntaxError\u001b[0m\u001b[0;31m:\u001b[0m invalid syntax\n"
     ]
    }
   ],
   "source": [
    "def function(list)\n",
    "    hump = []\n",
    "    for num in list:\n",
    "        if num != 0:\n",
    "            hump.append[num]\n",
    "        else:\n",
    "            print(hump)\n",
    "            hump = []"
   ]
  },
  {
   "cell_type": "code",
   "execution_count": null,
   "metadata": {},
   "outputs": [],
   "source": [
    "You have 7 minutes.\n",
    "\n",
    "Print a NxM multiplication table \n",
    "1  2  3  4  5\n",
    "2  4  6  8  10\n",
    "3  6  9  12 15 \n",
    "\n",
    "If you like your code to print in a nice formatted way…\n",
    "use print(f\"{num:2d}\", end=\"\")\n",
    "\n",
    "The end=\"\" tells print NOT to print an endline\n",
    "{...:2d} formats a number in 2 characters"
   ]
  },
  {
   "cell_type": "code",
   "execution_count": 3,
   "metadata": {},
   "outputs": [
    {
     "name": "stdout",
     "output_type": "stream",
     "text": [
      "    1    2    3    4    5    6    7    8    9   10\n",
      "    2    4    6    8   10   12   14   16   18   20\n",
      "    3    6    9   12   15   18   21   24   27   30\n",
      "    4    8   12   16   20   24   28   32   36   40\n",
      "    5   10   15   20   25   30   35   40   45   50\n",
      "    6   12   18   24   30   36   42   48   54   60\n",
      "    7   14   21   28   35   42   49   56   63   70\n",
      "    8   16   24   32   40   48   56   64   72   80\n",
      "    9   18   27   36   45   54   63   72   81   90\n",
      "   10   20   30   40   50   60   70   80   90  100\n"
     ]
    },
    {
     "data": {
      "text/plain": [
       "'nested for loops'"
      ]
     },
     "execution_count": 3,
     "metadata": {},
     "output_type": "execute_result"
    }
   ],
   "source": [
    "def mult_table(n, m):\n",
    "    for i in range(1, n +1):\n",
    "        for j in range(1, m + 1):\n",
    "            num = i * j\n",
    "            print(f\"{num:5d}\", end=\"\")\n",
    "        print('')\n",
    "mult_table(10, 10)\n",
    "\n",
    "\n",
    "\"\"\"nested for loops\"\"\""
   ]
  },
  {
   "cell_type": "code",
   "execution_count": 2,
   "metadata": {},
   "outputs": [],
   "source": [
    "N = 5\n",
    "M = 3\n",
    "table_nums = \n",
    "for num in range(1, N +1):\n",
    "    table_nums \n",
    "\n"
   ]
  },
  {
   "cell_type": "code",
   "execution_count": null,
   "metadata": {},
   "outputs": [],
   "source": [
    "def multi_table(n,m):\n",
    "    n_lst= range (1,n+1)\n",
    "    for num in n_list:\n",
    "        print(f'{num:2d}', end = '')"
   ]
  },
  {
   "cell_type": "code",
   "execution_count": null,
   "metadata": {},
   "outputs": [],
   "source": [
    "You have 10 minutes.\n",
    "\n",
    "Given a list\n",
    "a = [1, 3, -4, 5, 7, 11, 16]\n",
    "\n",
    "Write a function that prints any combination of two numbers in the list that their sum is equal to a specified number(ie: 12)\n",
    "\n",
    "Expected arguments: a list and the expected sum\n",
    "\n",
    "Expected return value: only print the tuples. For example:\n",
    "(1, 11), (-4, 16), (5, 7)\n"
   ]
  },
  {
   "cell_type": "code",
   "execution_count": 11,
   "metadata": {},
   "outputs": [
    {
     "ename": "TypeError",
     "evalue": "'type' object is not subscriptable",
     "output_type": "error",
     "traceback": [
      "\u001b[0;31m---------------------------------------------------------------------------\u001b[0m",
      "\u001b[0;31mTypeError\u001b[0m                                 Traceback (most recent call last)",
      "\u001b[0;32m/tmp/ipykernel_26164/404924970.py\u001b[0m in \u001b[0;36m<module>\u001b[0;34m\u001b[0m\n\u001b[1;32m     11\u001b[0m                 \u001b[0mnums\u001b[0m \u001b[0;34m+=\u001b[0m \u001b[0;36m1\u001b[0m\u001b[0;34m\u001b[0m\u001b[0;34m\u001b[0m\u001b[0m\n\u001b[1;32m     12\u001b[0m                 \u001b[0mprint\u001b[0m\u001b[0;34m(\u001b[0m\u001b[0mi\u001b[0m\u001b[0;34m,\u001b[0m \u001b[0mii\u001b[0m\u001b[0;34m)\u001b[0m\u001b[0;34m\u001b[0m\u001b[0;34m\u001b[0m\u001b[0m\n\u001b[0;32m---> 13\u001b[0;31m \u001b[0mpair_sum\u001b[0m\u001b[0;34m(\u001b[0m\u001b[0ma\u001b[0m\u001b[0;34m,\u001b[0m \u001b[0mb\u001b[0m\u001b[0;34m)\u001b[0m\u001b[0;34m\u001b[0m\u001b[0;34m\u001b[0m\u001b[0m\n\u001b[0m",
      "\u001b[0;32m/tmp/ipykernel_26164/404924970.py\u001b[0m in \u001b[0;36mpair_sum\u001b[0;34m(num_list, sum_nums)\u001b[0m\n\u001b[1;32m      8\u001b[0m     \u001b[0;32mfor\u001b[0m \u001b[0mi\u001b[0m \u001b[0;32min\u001b[0m \u001b[0mrange\u001b[0m\u001b[0;34m(\u001b[0m\u001b[0;36m0\u001b[0m\u001b[0;34m,\u001b[0m \u001b[0mx\u001b[0m\u001b[0;34m)\u001b[0m\u001b[0;34m:\u001b[0m\u001b[0;34m\u001b[0m\u001b[0;34m\u001b[0m\u001b[0m\n\u001b[1;32m      9\u001b[0m         \u001b[0;32mfor\u001b[0m \u001b[0mii\u001b[0m \u001b[0;32min\u001b[0m \u001b[0mrange\u001b[0m\u001b[0;34m(\u001b[0m\u001b[0mi\u001b[0m \u001b[0;34m+\u001b[0m \u001b[0;36m1\u001b[0m\u001b[0;34m,\u001b[0m \u001b[0mx\u001b[0m\u001b[0;34m)\u001b[0m\u001b[0;34m:\u001b[0m\u001b[0;34m\u001b[0m\u001b[0;34m\u001b[0m\u001b[0m\n\u001b[0;32m---> 10\u001b[0;31m             \u001b[0;32mif\u001b[0m \u001b[0mlist\u001b[0m\u001b[0;34m[\u001b[0m\u001b[0mi\u001b[0m\u001b[0;34m]\u001b[0m \u001b[0;34m+\u001b[0m \u001b[0mlist\u001b[0m\u001b[0;34m[\u001b[0m\u001b[0mii\u001b[0m\u001b[0;34m]\u001b[0m \u001b[0;34m==\u001b[0m \u001b[0msum_nums\u001b[0m\u001b[0;34m:\u001b[0m\u001b[0;34m\u001b[0m\u001b[0;34m\u001b[0m\u001b[0m\n\u001b[0m\u001b[1;32m     11\u001b[0m                 \u001b[0mnums\u001b[0m \u001b[0;34m+=\u001b[0m \u001b[0;36m1\u001b[0m\u001b[0;34m\u001b[0m\u001b[0;34m\u001b[0m\u001b[0m\n\u001b[1;32m     12\u001b[0m                 \u001b[0mprint\u001b[0m\u001b[0;34m(\u001b[0m\u001b[0mi\u001b[0m\u001b[0;34m,\u001b[0m \u001b[0mii\u001b[0m\u001b[0;34m)\u001b[0m\u001b[0;34m\u001b[0m\u001b[0;34m\u001b[0m\u001b[0m\n",
      "\u001b[0;31mTypeError\u001b[0m: 'type' object is not subscriptable"
     ]
    }
   ],
   "source": [
    "a = [1, 3, -4, 5, 7, 11, 16]\n",
    "b = 12\n",
    "x = len(a)\n",
    "\n",
    "def pair_sum(num_list, sum_nums):\n",
    "    x = len(a)\n",
    "    nums = 0 \n",
    "    for i in range(0, x):\n",
    "        for ii in range(i + 1, x):\n",
    "            if list[i] + list[ii] == sum_nums:\n",
    "                nums += 1\n",
    "                print(i, ii)    \n",
    "pair_sum(a, b)"
   ]
  },
  {
   "cell_type": "code",
   "execution_count": 19,
   "metadata": {},
   "outputs": [
    {
     "ename": "NameError",
     "evalue": "name 'l' is not defined",
     "output_type": "error",
     "traceback": [
      "\u001b[0;31m---------------------------------------------------------------------------\u001b[0m",
      "\u001b[0;31mNameError\u001b[0m                                 Traceback (most recent call last)",
      "\u001b[0;32m/tmp/ipykernel_26164/2542628594.py\u001b[0m in \u001b[0;36m<module>\u001b[0;34m\u001b[0m\n\u001b[1;32m      9\u001b[0m \u001b[0;34m\u001b[0m\u001b[0m\n\u001b[1;32m     10\u001b[0m \u001b[0ma\u001b[0m \u001b[0;34m=\u001b[0m \u001b[0;34m[\u001b[0m\u001b[0;36m1\u001b[0m\u001b[0;34m,\u001b[0m \u001b[0;36m3\u001b[0m\u001b[0;34m,\u001b[0m \u001b[0;34m-\u001b[0m\u001b[0;36m4\u001b[0m\u001b[0;34m,\u001b[0m \u001b[0;36m5\u001b[0m\u001b[0;34m,\u001b[0m \u001b[0;36m7\u001b[0m\u001b[0;34m,\u001b[0m \u001b[0;36m11\u001b[0m\u001b[0;34m,\u001b[0m \u001b[0;36m16\u001b[0m\u001b[0;34m]\u001b[0m\u001b[0;34m\u001b[0m\u001b[0;34m\u001b[0m\u001b[0m\n\u001b[0;32m---> 11\u001b[0;31m \u001b[0msum_check\u001b[0m\u001b[0;34m(\u001b[0m\u001b[0ma\u001b[0m\u001b[0;34m,\u001b[0m \u001b[0;36m12\u001b[0m\u001b[0;34m)\u001b[0m\u001b[0;34m\u001b[0m\u001b[0;34m\u001b[0m\u001b[0m\n\u001b[0m",
      "\u001b[0;32m/tmp/ipykernel_26164/4251911197.py\u001b[0m in \u001b[0;36msum_check\u001b[0;34m(inlist, sum_num)\u001b[0m\n\u001b[1;32m      1\u001b[0m \u001b[0;32mdef\u001b[0m \u001b[0msum_check\u001b[0m\u001b[0;34m(\u001b[0m\u001b[0minlist\u001b[0m\u001b[0;34m,\u001b[0m \u001b[0msum_num\u001b[0m\u001b[0;34m)\u001b[0m\u001b[0;34m:\u001b[0m\u001b[0;34m\u001b[0m\u001b[0;34m\u001b[0m\u001b[0m\n\u001b[0;32m----> 2\u001b[0;31m     \u001b[0mnum_dict\u001b[0m \u001b[0;34m=\u001b[0m \u001b[0;34m{\u001b[0m\u001b[0mx\u001b[0m\u001b[0;34m:\u001b[0m \u001b[0ml\u001b[0m \u001b[0;32mfor\u001b[0m \u001b[0mx\u001b[0m \u001b[0;32min\u001b[0m \u001b[0minlist\u001b[0m\u001b[0;34m}\u001b[0m\u001b[0;34m\u001b[0m\u001b[0;34m\u001b[0m\u001b[0m\n\u001b[0m\u001b[1;32m      3\u001b[0m     \u001b[0;32mfor\u001b[0m \u001b[0mx\u001b[0m \u001b[0;32min\u001b[0m \u001b[0minlist\u001b[0m\u001b[0;34m:\u001b[0m\u001b[0;34m\u001b[0m\u001b[0;34m\u001b[0m\u001b[0m\n\u001b[1;32m      4\u001b[0m         \u001b[0my\u001b[0m \u001b[0;34m=\u001b[0m \u001b[0msum\u001b[0m \u001b[0;34m-\u001b[0m \u001b[0mx\u001b[0m\u001b[0;34m\u001b[0m\u001b[0;34m\u001b[0m\u001b[0m\n\u001b[1;32m      5\u001b[0m         \u001b[0;32mif\u001b[0m \u001b[0my\u001b[0m \u001b[0;32min\u001b[0m \u001b[0mnum_dict\u001b[0m\u001b[0;34m:\u001b[0m\u001b[0;34m\u001b[0m\u001b[0;34m\u001b[0m\u001b[0m\n",
      "\u001b[0;32m/tmp/ipykernel_26164/4251911197.py\u001b[0m in \u001b[0;36m<dictcomp>\u001b[0;34m(.0)\u001b[0m\n\u001b[1;32m      1\u001b[0m \u001b[0;32mdef\u001b[0m \u001b[0msum_check\u001b[0m\u001b[0;34m(\u001b[0m\u001b[0minlist\u001b[0m\u001b[0;34m,\u001b[0m \u001b[0msum_num\u001b[0m\u001b[0;34m)\u001b[0m\u001b[0;34m:\u001b[0m\u001b[0;34m\u001b[0m\u001b[0;34m\u001b[0m\u001b[0m\n\u001b[0;32m----> 2\u001b[0;31m     \u001b[0mnum_dict\u001b[0m \u001b[0;34m=\u001b[0m \u001b[0;34m{\u001b[0m\u001b[0mx\u001b[0m\u001b[0;34m:\u001b[0m \u001b[0ml\u001b[0m \u001b[0;32mfor\u001b[0m \u001b[0mx\u001b[0m \u001b[0;32min\u001b[0m \u001b[0minlist\u001b[0m\u001b[0;34m}\u001b[0m\u001b[0;34m\u001b[0m\u001b[0;34m\u001b[0m\u001b[0m\n\u001b[0m\u001b[1;32m      3\u001b[0m     \u001b[0;32mfor\u001b[0m \u001b[0mx\u001b[0m \u001b[0;32min\u001b[0m \u001b[0minlist\u001b[0m\u001b[0;34m:\u001b[0m\u001b[0;34m\u001b[0m\u001b[0;34m\u001b[0m\u001b[0m\n\u001b[1;32m      4\u001b[0m         \u001b[0my\u001b[0m \u001b[0;34m=\u001b[0m \u001b[0msum\u001b[0m \u001b[0;34m-\u001b[0m \u001b[0mx\u001b[0m\u001b[0;34m\u001b[0m\u001b[0;34m\u001b[0m\u001b[0m\n\u001b[1;32m      5\u001b[0m         \u001b[0;32mif\u001b[0m \u001b[0my\u001b[0m \u001b[0;32min\u001b[0m \u001b[0mnum_dict\u001b[0m\u001b[0;34m:\u001b[0m\u001b[0;34m\u001b[0m\u001b[0;34m\u001b[0m\u001b[0m\n",
      "\u001b[0;31mNameError\u001b[0m: name 'l' is not defined"
     ]
    }
   ],
   "source": [
    "def sum_checker_2(inlist: list, sum: int) -> None:\n",
    "    l=1\n",
    "    numbers_dict = {x: 1 for x in inlist}\n",
    "    for x in inlist:\n",
    "        y = sum - x\n",
    "        if y in numbers_dict:\n",
    "            print(x, y)\n",
    "\n",
    "\n",
    "a = [1, 3, -4, 5, 7, 11, 16]\n",
    "sum_check(a, 12)"
   ]
  },
  {
   "cell_type": "code",
   "execution_count": 1,
   "metadata": {},
   "outputs": [],
   "source": [
    "\"\"\"import argparse\n",
    "argparse.ArgumentParser()\n",
    ".add_arguement()\n",
    ".parse_args()\n",
    "\n",
    "ex = \"python3 parser.py --number 3\"\n",
    "\"\"\"\n",
    "import argparse\n",
    "\n",
    "def doubler():\n",
    "    parser = argparse.ArgumentParser()\n",
    "    parser.add_argument('-n')\n",
    "    args = parser.parse_args()\n",
    "\n",
    "    print(f'imput number is (args.n), doubled is (int(args.n)*2)')\n",
    "\n",
    "\n",
    "\n",
    "def spinster():\n",
    "    mult = imput *2\n",
    "    print(mult)"
   ]
  },
  {
   "cell_type": "code",
   "execution_count": null,
   "metadata": {},
   "outputs": [],
   "source": [
    "Write a single function that allows a user to run your file with a command line argument of a string, saying what they’d like to drink. The argument can have two valid choices: ‘coffee’ or ‘tea’.\n",
    "\n",
    "If they choose coffee, print “hot coffee, coming right up!”\n",
    "If they choose tea, print “yep, plenty of tea!”\n",
    "\n",
    "Tools:\n",
    " import argparse\n",
    "argparse.ArgumentParser()\n",
    ".add_argument()\n",
    ".parse_args()\n",
    "\n",
    "Example command line input: python3 morning.py - -beverage “tea”\n",
    "Example output: “yep, plenty of tea!”\n",
    "\n",
    "Bonus: account for the user omitting the argument, or adding unknown arguments\n"
   ]
  },
  {
   "cell_type": "code",
   "execution_count": null,
   "metadata": {},
   "outputs": [],
   "source": [
    "import argparse\n",
    "\n",
    "def bev():\n",
    "    parser = argparse.ArgumentParser(description='user must choose their beverage')\n",
    "    parser.add_argument('-c', '--coffee', action='store_true')\n",
    "    parser.add_argument('-t', '--tea', action = 'store_true')\n",
    "    args, _ = parser.parse_known_args()\n",
    "    if args.coffee:\n",
    "        print('hot coffee, coming right up')\n",
    "    elif args.tea:\n",
    "        print('yup, plenty of tea')\n",
    "    else:\n",
    "        print('you actually have to choose')\n",
    "\n",
    "\n",
    "\"\"\"if you impor this as a module into another file. you can catch it by only having it run when you call on it\"\"\"\n",
    "# when its imported its file name, when its ran, its as __main__\n",
    "if __name__ == '__main__':\n",
    "    bev()"
   ]
  },
  {
   "cell_type": "code",
   "execution_count": null,
   "metadata": {},
   "outputs": [],
   "source": [
    "def coffeeserver():\n",
    "    parser = argparse.ArgumentParser()\n",
    "    # choices will throw an error if you pick something other than them.\n",
    "    # requirement will throw an error if you dont specify\n",
    "    parser.add_argument('-b', requirements = True, choices='tea', 'coffee')\n",
    "    args = parser.parse_args()\n",
    "\n",
    "    if args.b == 'coffee':\n",
    "        print\n",
    "    else:\n",
    "        print('this doesnt need specifications because its covered in the arguement')"
   ]
  },
  {
   "cell_type": "code",
   "execution_count": null,
   "metadata": {},
   "outputs": [],
   "source": [
    "def bev():\n",
    "    parser = argparse.ArgumentParser(\n",
    "        description='user must choose their beverage')\n",
    "    parser.add_argument('-b', '--beverage', required = True)\n",
    "\n",
    "def run():\n",
    "    args = set_args()\n",
    "    if args.beverage is not None:\n",
    "        if args.beverage == 'coffee':\n",
    "            print('')\n",
    "        elif args.beverage == 'tea':\n"
   ]
  },
  {
   "cell_type": "code",
   "execution_count": null,
   "metadata": {},
   "outputs": [],
   "source": [
    "Syntax: map(function, iterable)\n",
    "Each element in ‘iterable’ is passes as an argument to ‘function’\n",
    "\n",
    "\n",
    "Write a function that takes a list of numbers and uses ‘map()’ to return a list containing the square of each number in the original list.\n",
    "\n",
    "Example input: [1, 2, 3, 16]\n",
    "Example output: [1, 4, 9, 256]\n"
   ]
  },
  {
   "cell_type": "code",
   "execution_count": 9,
   "metadata": {},
   "outputs": [
    {
     "name": "stdout",
     "output_type": "stream",
     "text": [
      "[1, 16384, 4782969, 72057594037927936]\n"
     ]
    }
   ],
   "source": [
    "imp = [1, 2, 3, 16]\n",
    "\n",
    "def power(num):         \n",
    "    return num**14\n",
    "print(list(map(power, imp)))"
   ]
  },
  {
   "cell_type": "code",
   "execution_count": 2,
   "metadata": {},
   "outputs": [
    {
     "data": {
      "text/plain": [
       "6"
      ]
     },
     "execution_count": 2,
     "metadata": {},
     "output_type": "execute_result"
    }
   ],
   "source": [
    "(lambda x, y, z: x + y + z)(1, 2, 3)"
   ]
  },
  {
   "cell_type": "code",
   "execution_count": null,
   "metadata": {},
   "outputs": [],
   "source": [
    "Filter\n",
    "\n",
    "Syntax: filter(function, iterable)\n",
    "Each item in the iterable is passed to the function. ‘Filter’ only includes the items that return True\n",
    "\n",
    "\n",
    "Take a list of names and use ‘filter()’ to return a list containing only the names in the original list that have a length greater than 5.\n",
    "\n",
    "Example input: [\"ManCity\", \"Liverpool\",\n",
    "                \"Real_Madrid\", \"Porto\", \"Ajax\"]\n",
    "\n",
    "Example output: [\"ManCity\", \"Liverpool\",\n",
    "                 \"Real_Madrid\"]\n"
   ]
  },
  {
   "cell_type": "code",
   "execution_count": 9,
   "metadata": {},
   "outputs": [
    {
     "ename": "TypeError",
     "evalue": "'str' object is not callable",
     "output_type": "error",
     "traceback": [
      "\u001b[0;31m---------------------------------------------------------------------------\u001b[0m",
      "\u001b[0;31mTypeError\u001b[0m                                 Traceback (most recent call last)",
      "\u001b[0;32m/tmp/ipykernel_759248/3242421007.py\u001b[0m in \u001b[0;36m<module>\u001b[0;34m\u001b[0m\n\u001b[1;32m      7\u001b[0m     \u001b[0;32melse\u001b[0m\u001b[0;34m:\u001b[0m\u001b[0;34m\u001b[0m\u001b[0;34m\u001b[0m\u001b[0m\n\u001b[1;32m      8\u001b[0m         \u001b[0;32mreturn\u001b[0m \u001b[0;32mFalse\u001b[0m\u001b[0;34m\u001b[0m\u001b[0;34m\u001b[0m\u001b[0m\n\u001b[0;32m----> 9\u001b[0;31m \u001b[0mlist\u001b[0m\u001b[0;34m(\u001b[0m\u001b[0mfilter\u001b[0m\u001b[0;34m(\u001b[0m\u001b[0;34m'alma'\u001b[0m\u001b[0;34m,\u001b[0m \u001b[0mnames\u001b[0m\u001b[0;34m)\u001b[0m\u001b[0;34m)\u001b[0m\u001b[0;34m\u001b[0m\u001b[0;34m\u001b[0m\u001b[0m\n\u001b[0m\u001b[1;32m     10\u001b[0m \u001b[0;34m\u001b[0m\u001b[0m\n\u001b[1;32m     11\u001b[0m \u001b[0;34m\u001b[0m\u001b[0m\n",
      "\u001b[0;31mTypeError\u001b[0m: 'str' object is not callable"
     ]
    }
   ],
   "source": [
    "names = ['alma', 'par', 'jarret', \"dylan\", 'jess']\n",
    "\n",
    "def brita(word):\n",
    "\n",
    "    if len(word) >= 5:\n",
    "        return True\n",
    "    else:\n",
    "        return False\n",
    "list(filter(\"\", names))\n",
    "\n",
    "\n",
    "\n",
    "list(filter(lambda x: if len(x) =>5, list))\n"
   ]
  },
  {
   "cell_type": "code",
   "execution_count": 8,
   "metadata": {},
   "outputs": [
    {
     "name": "stdout",
     "output_type": "stream",
     "text": [
      "24\n"
     ]
    }
   ],
   "source": [
    "from functools import reduce\n",
    "\n",
    "numbers = [1, 2, 3, 4]\n",
    "\n",
    "def mult(n1, n2):\n",
    "    return n1*n2\n",
    "\n",
    "total = reduce(mult, numbers)\n",
    "# total2 = reduce(mult)\n",
    "print(total)\n"
   ]
  },
  {
   "cell_type": "code",
   "execution_count": null,
   "metadata": {},
   "outputs": [],
   "source": [
    "Reduce\n",
    "Imported from the ‘functools’ module\n",
    "\n",
    "Syntax: reduce(function, iterable)\n",
    "The function is applied pairwise through the iterable. A single value is returned.\n",
    "\n",
    "Write a function that takes a list of numbers and uses ‘reduce()’ to return the sum of all the numbers.\n",
    "\n",
    "Example input: [2, 2, 3, 4]\n",
    "\n",
    "Example output: 11\n"
   ]
  },
  {
   "cell_type": "code",
   "execution_count": 17,
   "metadata": {},
   "outputs": [
    {
     "name": "stdout",
     "output_type": "stream",
     "text": [
      "4398046511104\n"
     ]
    }
   ],
   "source": [
    "from functools import reduce\n",
    "\n",
    "def smush_math(x, m):\n",
    "    return x ** m\n",
    "\n",
    "\n",
    "list_o_numbers = [2, 2, 3, 7]\n",
    "nicely_smushed = reduce(smush_math, list_o_numbers)\n",
    "print(nicely_smushed)"
   ]
  },
  {
   "cell_type": "code",
   "execution_count": null,
   "metadata": {},
   "outputs": [],
   "source": [
    "Unique Randos\n",
    "\n",
    "Generate a list of random, unique integers. Guidelines:\n",
    "\n",
    "Each value should be between 0 and 100\n",
    "Each value can only appear once\n",
    "The list should have 20 items total\n",
    "\n",
    "\n",
    "Example output: [96, 3, 22, 65, 29, 54, 61, 66, 95, 98, 47, 4, 10, 50, 89, 59, 19, 49, 52, 63]\n"
   ]
  },
  {
   "cell_type": "code",
   "execution_count": 5,
   "metadata": {},
   "outputs": [
    {
     "name": "stdout",
     "output_type": "stream",
     "text": [
      "[87, 85, 39, 28, 92, 51, 56, 84, 41, 4, 64, 31, 91, 7, 52, 94, 12, 72, 71, 58]\n"
     ]
    }
   ],
   "source": [
    "import random\n",
    "\n",
    "random_mun = random.sample(range (0, 100), 20)\n",
    "print(random_mun)"
   ]
  },
  {
   "cell_type": "code",
   "execution_count": null,
   "metadata": {},
   "outputs": [],
   "source": [
    "Unique Prime Randos\n",
    "\n",
    "Generate a list of random, unique, and prime integers. Guidelines:\n",
    "\n",
    "Each value should be between 0 and 100\n",
    "Each value can only appear once\n",
    "The list should have 5 items total\n",
    "\n",
    "\n",
    "Example output: [17,  53, 67, 11, 41]\n",
    "\n",
    "\n",
    "Optimization Hint: a number (N) is prime if its not divisible by any other number in between 2 and N/2\n",
    "\n",
    "\n",
    "More Optimized Hint: mathematically, a number (N) is prime if its not divisible by any other number in between 2 and (√N +1)... sqrt of N plus 1"
   ]
  },
  {
   "cell_type": "code",
   "execution_count": 1,
   "metadata": {},
   "outputs": [
    {
     "name": "stdout",
     "output_type": "stream",
     "text": [
      "[1, 2]\n"
     ]
    }
   ],
   "source": [
    "import random\n",
    "list_o_numbers = []\n",
    "for x in range(1,100):\n",
    "    list_o_numbers.append(x)\n",
    "\n",
    "primes = []\n",
    "for num in list_o_numbers:\n",
    "    is_prime = True\n",
    "    for i in range(2, num):\n",
    "        if num % i != 0:\n",
    "            is_prime = False\n",
    "            break\n",
    "    if is_prime == True:    \n",
    "        primes.append(num)\n",
    "print(primes)\n",
    "\n",
    "\n"
   ]
  },
  {
   "cell_type": "code",
   "execution_count": null,
   "metadata": {},
   "outputs": [],
   "source": [
    "import random\n",
    "\n",
    "\n",
    "def prime_list() -> list:\n",
    "    list_prime = []\n",
    "    while len(list_prime) < 5:\n",
    "        is_prime = True\n",
    "        num = random.randint(0, 100)\n",
    "        if num > 1:\n",
    "            for i in range(2, num):\n",
    "                if num % i == 0:\n",
    "                    is_prime = False\n",
    "                    break\n",
    "            if is_prime == True:\n",
    "                list_prime.append(num)\n",
    "    print(list_prime)\n",
    "\n",
    "\n",
    "prime_list()\n"
   ]
  },
  {
   "cell_type": "code",
   "execution_count": null,
   "metadata": {},
   "outputs": [],
   "source": [
    "Gaudi’s Square Footage!\n",
    "\n",
    "We need to compute the square footage of houses designed by a \n",
    "Spanish architect! The data comes in a list of tuples. Each \n",
    "tuple represents a room, its shape, and dimensions such as:\n",
    "\n",
    "rooms = [('square', side), ('circle', radius), ('triangle',\n",
    "        base, height), ('trapezoid', base-a, base-b, height)]\n",
    "\n",
    "Write a function that can calculate the square footage of \n",
    "any input list like this one:\n",
    "\n",
    "rooms = [('square', 12), ('circle', 8), ('triangle', 14, 16), \n",
    "('circle', 5), ('trapezoid')]\n"
   ]
  },
  {
   "cell_type": "code",
   "execution_count": 1,
   "metadata": {},
   "outputs": [
    {
     "ename": "NameError",
     "evalue": "name 'side' is not defined",
     "output_type": "error",
     "traceback": [
      "\u001b[0;31m---------------------------------------------------------------------------\u001b[0m",
      "\u001b[0;31mNameError\u001b[0m                                 Traceback (most recent call last)",
      "\u001b[1;32m/home/fossa/Desktop/exersizes/exersizes.ipynb Cell 4'\u001b[0m in \u001b[0;36m<cell line: 1>\u001b[0;34m()\u001b[0m\n\u001b[0;32m----> <a href='vscode-notebook-cell:/home/fossa/Desktop/exersizes/exersizes.ipynb#ch0000003?line=0'>1</a>\u001b[0m rooms \u001b[39m=\u001b[39m [(\u001b[39m'\u001b[39m\u001b[39msquare\u001b[39m\u001b[39m'\u001b[39m, side), \n\u001b[1;32m      <a href='vscode-notebook-cell:/home/fossa/Desktop/exersizes/exersizes.ipynb#ch0000003?line=1'>2</a>\u001b[0m         (\u001b[39m'\u001b[39m\u001b[39mcircle\u001b[39m\u001b[39m'\u001b[39m, radius), \n\u001b[1;32m      <a href='vscode-notebook-cell:/home/fossa/Desktop/exersizes/exersizes.ipynb#ch0000003?line=2'>3</a>\u001b[0m         (\u001b[39m'\u001b[39m\u001b[39mtriangle\u001b[39m\u001b[39m'\u001b[39m,base, height), \n\u001b[1;32m      <a href='vscode-notebook-cell:/home/fossa/Desktop/exersizes/exersizes.ipynb#ch0000003?line=3'>4</a>\u001b[0m         (\u001b[39m'\u001b[39m\u001b[39mtrapezoid\u001b[39m\u001b[39m'\u001b[39m, base\u001b[39m-\u001b[39ma, base\u001b[39m-\u001b[39mb, height)]\n",
      "\u001b[0;31mNameError\u001b[0m: name 'side' is not defined"
     ]
    }
   ],
   "source": [
    "rooms = [('square', side), \n",
    "        ('circle', radius), \n",
    "        ('triangle',base, height), \n",
    "        ('trapezoid', base-a, base-b, height)]\n"
   ]
  },
  {
   "cell_type": "code",
   "execution_count": null,
   "metadata": {},
   "outputs": [],
   "source": [
    "Area of square = side ^ 2\n",
    "Area of circle = pi * v ** 2\n",
    "Area of triangle = (base * height) / 2\n",
    "Area of trapezoid = height * ((base-a + base-b) / 2)\n"
   ]
  },
  {
   "cell_type": "code",
   "execution_count": 12,
   "metadata": {},
   "outputs": [
    {
     "name": "stdout",
     "output_type": "stream",
     "text": [
      "144 200.96\n"
     ]
    }
   ],
   "source": [
    "\n",
    "circle_root = []\n",
    "square_root = []\n",
    "for k, v in rooms:\n",
    "    if k == 'square':\n",
    "        square_root = v**2\n",
    "    elif k == 'circle':\n",
    "        circle_root = 3.14 * v**2\n",
    "    elif k =='triangle':\n",
    "        pass\n",
    "    elif k == 'trapezoid':\n",
    "        pass\n",
    "    else:\n",
    "        pass   \n",
    "print(square_root, circle_root)"
   ]
  },
  {
   "cell_type": "code",
   "execution_count": 9,
   "metadata": {},
   "outputs": [],
   "source": [
    "rooms = [('square', 12), \n",
    "        ('circle', 8)]\n"
   ]
  },
  {
   "cell_type": "code",
   "execution_count": null,
   "metadata": {},
   "outputs": [],
   "source": [
    "import math\n",
    "\n",
    "\n",
    "def area_of_square(side): return math.pow(side, 2)\n",
    "def area_of_circle(radius): return round(math.pi * math.pow(radius, 2), 2)\n",
    "def area_of_triangle(base, height): return round((base * height) / 2, 2)\n",
    "\n",
    "\n",
    "def area_of_trapezoid(base_a, base_b, height): return round(\n",
    "    height * ((base_a + base_b) / 2))\n",
    "\n",
    "\n",
    "def area_of(room_tuple: tuple):\n",
    "    area_fn_map = {\n",
    "        'square': area_of_square,\n",
    "        'circle': area_of_circle,\n",
    "        'triangle': area_of_triangle,\n",
    "        'trapezoid': area_of_trapezoid,\n",
    "    }\n",
    "    room_type = room_tuple[0]\n",
    "    area_fn = area_fn_map[room_type]\n",
    "    return area_fn(*room_tuple[1:])\n",
    "\n",
    "\n",
    "rooms = [\n",
    "    ('square', 12),\n",
    "    ('circle', 8),\n",
    "    ('triangle', 14, 16),\n",
    "    ('circle', 5),\n",
    "    ('trapezoid', 6, 12, 18)\n",
    "]\n",
    "\n",
    "sum([area_of(room) for room in rooms])\n"
   ]
  },
  {
   "cell_type": "code",
   "execution_count": 10,
   "metadata": {},
   "outputs": [
    {
     "name": "stdout",
     "output_type": "stream",
     "text": [
      "[12, 63, 3, 70, 11, 80]\n"
     ]
    }
   ],
   "source": [
    "import random\n",
    "some_list = [x for x in random.sample(range(0,100), 6)]\n",
    "print(some_list)\n",
    "\n",
    "[random.randint(1, 100) for x in range(6)]\n"
   ]
  },
  {
   "cell_type": "code",
   "execution_count": null,
   "metadata": {},
   "outputs": [],
   "source": []
  },
  {
   "cell_type": "code",
   "execution_count": 12,
   "metadata": {},
   "outputs": [
    {
     "ename": "TypeError",
     "evalue": "Population must be a sequence.  For dicts or sets, use sorted(d).",
     "output_type": "error",
     "traceback": [
      "\u001b[0;31m---------------------------------------------------------------------------\u001b[0m",
      "\u001b[0;31mTypeError\u001b[0m                                 Traceback (most recent call last)",
      "\u001b[1;32m/home/fossa/Desktop/exersizes/exersizes.ipynb Cell 34'\u001b[0m in \u001b[0;36m<cell line: 3>\u001b[0;34m()\u001b[0m\n\u001b[1;32m      <a href='vscode-notebook-cell:/home/fossa/Desktop/exersizes/exersizes.ipynb#ch0000033?line=0'>1</a>\u001b[0m \u001b[39mimport\u001b[39;00m \u001b[39mrandom\u001b[39;00m\n\u001b[0;32m----> <a href='vscode-notebook-cell:/home/fossa/Desktop/exersizes/exersizes.ipynb#ch0000033?line=2'>3</a>\u001b[0m [random\u001b[39m.\u001b[39msample(\u001b[39m1\u001b[39m,\u001b[39m100\u001b[39m) \u001b[39mfor\u001b[39;00m x \u001b[39min\u001b[39;00m \u001b[39mrange\u001b[39m(\u001b[39m6\u001b[39m)]\n",
      "\u001b[1;32m/home/fossa/Desktop/exersizes/exersizes.ipynb Cell 34'\u001b[0m in \u001b[0;36m<listcomp>\u001b[0;34m(.0)\u001b[0m\n\u001b[1;32m      <a href='vscode-notebook-cell:/home/fossa/Desktop/exersizes/exersizes.ipynb#ch0000033?line=0'>1</a>\u001b[0m \u001b[39mimport\u001b[39;00m \u001b[39mrandom\u001b[39;00m\n\u001b[0;32m----> <a href='vscode-notebook-cell:/home/fossa/Desktop/exersizes/exersizes.ipynb#ch0000033?line=2'>3</a>\u001b[0m [random\u001b[39m.\u001b[39;49msample(\u001b[39m1\u001b[39;49m,\u001b[39m100\u001b[39;49m) \u001b[39mfor\u001b[39;00m x \u001b[39min\u001b[39;00m \u001b[39mrange\u001b[39m(\u001b[39m6\u001b[39m)]\n",
      "File \u001b[0;32m/usr/lib/python3.9/random.py:433\u001b[0m, in \u001b[0;36mRandom.sample\u001b[0;34m(self, population, k, counts)\u001b[0m\n\u001b[1;32m    431\u001b[0m     population \u001b[39m=\u001b[39m \u001b[39mtuple\u001b[39m(population)\n\u001b[1;32m    432\u001b[0m \u001b[39mif\u001b[39;00m \u001b[39mnot\u001b[39;00m \u001b[39misinstance\u001b[39m(population, _Sequence):\n\u001b[0;32m--> 433\u001b[0m     \u001b[39mraise\u001b[39;00m \u001b[39mTypeError\u001b[39;00m(\u001b[39m\"\u001b[39m\u001b[39mPopulation must be a sequence.  For dicts or sets, use sorted(d).\u001b[39m\u001b[39m\"\u001b[39m)\n\u001b[1;32m    434\u001b[0m n \u001b[39m=\u001b[39m \u001b[39mlen\u001b[39m(population)\n\u001b[1;32m    435\u001b[0m \u001b[39mif\u001b[39;00m counts \u001b[39mis\u001b[39;00m \u001b[39mnot\u001b[39;00m \u001b[39mNone\u001b[39;00m:\n",
      "\u001b[0;31mTypeError\u001b[0m: Population must be a sequence.  For dicts or sets, use sorted(d)."
     ]
    }
   ],
   "source": [
    "import random\n",
    "\n",
    "[random.randint(1,100) for x in range(6)]\n"
   ]
  },
  {
   "cell_type": "code",
   "execution_count": 2,
   "metadata": {},
   "outputs": [
    {
     "name": "stdout",
     "output_type": "stream",
     "text": [
      "[19, 74, 37, 22, 93, 79]\n"
     ]
    }
   ],
   "source": [
    "\n",
    "\n",
    "\n",
    "\n",
    "\n",
    "for x in range(0,100):\n",
    "\n"
   ]
  },
  {
   "cell_type": "code",
   "execution_count": null,
   "metadata": {},
   "outputs": [],
   "source": [
    "Duck Duck Goose\n",
    "\n",
    "This challenge has two steps:\n",
    "Given a list with two items, randomly choose the first item 90 % of the time, and the second item 10 % of the time\n",
    "\n",
    "Repeat until the second item is chosen, then stop\n",
    "\n",
    "Example input: [“Duck”, “Goose”]\n",
    "Example output:\n",
    "'Duck'\n",
    "'Duck'\n",
    "'Duck'\n",
    "'Duck'\n",
    "'Duck'\n",
    "‘Goose’\n"
   ]
  },
  {
   "cell_type": "code",
   "execution_count": 18,
   "metadata": {},
   "outputs": [
    {
     "name": "stdout",
     "output_type": "stream",
     "text": [
      "['duck', 'duck', 'duck', 'duck', 'duck', 'duck', 'duck', 'duck', 'duck', 'duck', 'duck', 'duck', 'duck', 'duck', 'duck', 'duck', 'duck', 'duck', 'duck', 'duck', 'duck', 'duck', 'duck', 'duck', 'duck', 'duck', 'duck', 'duck', 'duck', 'duck', 'duck', 'duck', 'duck', 'duck', 'duck', 'duck', 'duck', 'duck', 'duck', 'goose']\n"
     ]
    }
   ],
   "source": [
    "\n",
    "import random\n",
    "\n",
    "random_choices = []\n",
    "fowl = ['duck', 'goose']\n",
    "while 'goose' not in random_choices:\n",
    "    duck_or_goose = random.choices(fowl, weights = (90, 10), k = 1).pop()\n",
    "    random_choices.append(duck_or_goose)\n",
    "print(random_choices)"
   ]
  },
  {
   "cell_type": "code",
   "execution_count": 3,
   "metadata": {},
   "outputs": [
    {
     "name": "stdout",
     "output_type": "stream",
     "text": [
      "[1, 2]\n"
     ]
    }
   ],
   "source": [
    "import random\n",
    "list_o_numbers = []\n",
    "for x in range(1, 100):\n",
    "    list_o_numbers.append(x)\n",
    "# print(list_o_numbers)\n",
    "\n",
    "primes = []\n",
    "for num in list_o_numbers:\n",
    "    is_prime = True\n",
    "    for i in range(2, num):\n",
    "        if num % i != 0:\n",
    "            is_prime = False\n",
    "            break\n",
    "    if is_prime == True:\n",
    "        primes.append(num)\n",
    "print(primes)\n",
    "\n",
    "\n",
    "# def prime_list() -> list:\n",
    "#     list_prime = []\n",
    "#     while len(list_prime) < 5:\n",
    "#         is_prime = True\n",
    "#         num = random.randint(0, 100)\n",
    "#         if num > 1:\n",
    "#             for i in range(2, num):\n",
    "#                 if num % i == 0:\n",
    "#                     is_prime = False\n",
    "#                     break\n",
    "#             if is_prime == True:\n",
    "#                 list_prime.append(num)\n",
    "#     print(list_prime)\n",
    "\n",
    "\n",
    "# prime_list()\n"
   ]
  },
  {
   "cell_type": "code",
   "execution_count": null,
   "metadata": {},
   "outputs": [],
   "source": [
    "Optimus-Prime \n",
    "\n",
    "Generate a list of random, unique, and prime integers. Guidelines:\n",
    "\n",
    "Each value should be between 0 and 100\n",
    "Each value can only appear once\n",
    "The list should have 5 items total\n",
    "\n",
    "\n",
    "Example output: [17,  53, 67, 11, 41]\n",
    "\n",
    "\n",
    "Optimization Hint: a number (N) is prime if its not divisible by \n",
    "any other number in between 2 and N/2\n",
    "\n",
    "\n",
    "More Optimized Hint: mathematically, a number (N) is prime if its not \n",
    "divisible by any other number in between 2 and (√N +1)... sqrt of N \n",
    "plus 1"
   ]
  },
  {
   "cell_type": "code",
   "execution_count": 22,
   "metadata": {},
   "outputs": [
    {
     "data": {
      "text/plain": [
       "[13, 2, 17, 71, 1]"
      ]
     },
     "execution_count": 22,
     "metadata": {},
     "output_type": "execute_result"
    }
   ],
   "source": [
    "import random\n",
    "\n",
    "\n",
    "list_o_numbers = []\n",
    "for x in range(1, 100):\n",
    "    list_o_numbers.append(x)\n",
    "# print(list_o_numbers)\n",
    "\n",
    "primes = []\n",
    "for num in list_o_numbers:\n",
    "    im_prime = True\n",
    "    for i in range(2, num):\n",
    "        if num % i == 0:\n",
    "            im_prime = False\n",
    "            break\n",
    "    if im_prime == True:\n",
    "        primes.append(num)\n",
    "\n",
    "random.sample((primes), 5)"
   ]
  },
  {
   "cell_type": "code",
   "execution_count": 3,
   "metadata": {},
   "outputs": [],
   "source": [
    "import pandas as pd\n",
    "\n",
    "\n",
    "ufo_data_dict = {\n",
    "    'shape': [None, \"light\", \"circle\", \"circle\", \"light\", None, \"oval\", \"circle\", \"disk\", \"sphere\", \"circle\", \"disk\", \"disk\", \"disk\", \"circle\", \"fireball\", \"disk\", \"fireball\", \"oval\", \"circle\", \"disk\", \"disk\", \"light\", \"light\", \"circle\", \"light\", \"circle\", \"circle\", \"light\", \"sphere\", \"circle\", \"disk\", \"disk\", \"disk\", \"circle\", \"fireball\", \"disk\", \"disk\", \"light\", \"light\", \"circle\", \"disk\", \"light\", \"disk\", \"circle\", \"fireball\", \"disk\", \"fireball\", \"sphere\", \"circle\", \"disk\", \"disk\", \"disk\", \"circle\"],\n",
    "    'duration': [2700, 7200, 20, 20, 4000, 300, 300, 20, 20, 2700,\n",
    "                 300, 180, 1200, 100, 120, 300, 600, 1800, 900, 180,\n",
    "                 1200, 180, 6120, 3000, 180, 6800, 180, 40, 1200, 120,\n",
    "                 1800, 1800, 20, 270, 20, 2700, 2700, 600, 1800, 5200,\n",
    "                 180, 120, 6600, 600, 1800, 180, 30, 1220, 1220,\n",
    "                 300, 180, 1200, 100, 120],\n",
    "    'location': [\"IL\", \"CA\", \"AK\", \"AK\", \"CA\", \"CO\", \"CO\", \"AK\", \"NY\", \"VT\",\n",
    "                 \"AK\", \"NY\", \"NY\", \"NY\", \"AK\", \"CA\", \"NY\", \"CA\", \"WI\", \"WI\",\n",
    "                 \"NM\", \"NM\", \"FL\", \"CA\", \"CA\", \"IL\", \"CA\", \"CA\", \"CA\", \"VT\",\n",
    "                 \"CA\", \"NM\", \"NM\", \"NM\", \"CA\", \"CA\", \"NM\", \"NM\", \"CA\", \"CA\",\n",
    "                 \"WI\", \"NM\", \"CA\", \"NM\", \"WI\", \"CA\", \"NM\", \"CA\", \"VT\",\n",
    "                 \"WI\", \"NM\", \"NM\", \"NM\", \"DE\"]}\n",
    "\n",
    "                 \n",
    "ufo_df = pd.DataFrame(ufo_data_dict)"
   ]
  },
  {
   "cell_type": "code",
   "execution_count": 16,
   "metadata": {},
   "outputs": [
    {
     "name": "stdout",
     "output_type": "stream",
     "text": [
      "22.450617283950617\n"
     ]
    }
   ],
   "source": [
    "\"\"\"Using your `ufo_df`, find the average duration of sightings.\n",
    "\n",
    "The values are currently in seconds. Give the answer in minutes, rounded to the nearest integer\n",
    "Minutes = seconds / 60\n",
    "\"\"\"\n",
    "dur_mean = ufo_df.duration.mean()\n",
    "dur_mean_min = dur_mean / 60\n",
    "# dur_mean_min.astype(int)\n",
    "print(dur_mean_min)"
   ]
  }
 ],
 "metadata": {
  "kernelspec": {
   "display_name": "Python 3.7.13 ('venv': venv)",
   "language": "python",
   "name": "python3"
  },
  "language_info": {
   "codemirror_mode": {
    "name": "ipython",
    "version": 3
   },
   "file_extension": ".py",
   "mimetype": "text/x-python",
   "name": "python",
   "nbconvert_exporter": "python",
   "pygments_lexer": "ipython3",
   "version": "3.7.13"
  },
  "orig_nbformat": 4,
  "vscode": {
   "interpreter": {
    "hash": "2ae4311bcc0deca95c5b987a60437557ca463c98ba91b3fbe7c275b78db1e847"
   }
  }
 },
 "nbformat": 4,
 "nbformat_minor": 2
}
